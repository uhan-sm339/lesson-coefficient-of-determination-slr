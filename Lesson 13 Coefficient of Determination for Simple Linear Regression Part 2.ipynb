{
 "cells": [
  {
   "cell_type": "markdown",
   "id": "09fcc98d-1df3-415a-82e6-904de99b22e2",
   "metadata": {
    "editable": true,
    "slideshow": {
     "slide_type": ""
    },
    "tags": []
   },
   "source": [
    "**SM339 &#x25aa; Applied Statistics &#x25aa; Spring 2024 &#x25aa; Uhan**"
   ]
  },
  {
   "cell_type": "markdown",
   "id": "6c5b3453-d6ae-465a-b4f1-4aa6e8d8f4c9",
   "metadata": {
    "editable": true,
    "slideshow": {
     "slide_type": ""
    },
    "tags": []
   },
   "source": [
    "# Lesson 13. Coefficient of Determination for Simple Linear Regression &ndash; Part 2"
   ]
  },
  {
   "cell_type": "markdown",
   "id": "315588e7-90e6-436e-bcc0-1e3d7fa5f670",
   "metadata": {},
   "source": [
    "## Example"
   ]
  },
  {
   "cell_type": "markdown",
   "id": "a72dde49-d372-4b73-ab5b-1e1719f25378",
   "metadata": {},
   "source": [
    "* Let's consider the `AccordPrice` data again:"
   ]
  },
  {
   "cell_type": "code",
   "execution_count": 1,
   "id": "f1dfef56-bbda-4f52-a046-112a705375a4",
   "metadata": {},
   "outputs": [
    {
     "data": {
      "text/html": [
       "<table class=\"dataframe\">\n",
       "<caption>A data.frame: 6 × 3</caption>\n",
       "<thead>\n",
       "\t<tr><th></th><th scope=col>Age</th><th scope=col>Price</th><th scope=col>Mileage</th></tr>\n",
       "\t<tr><th></th><th scope=col>&lt;int&gt;</th><th scope=col>&lt;dbl&gt;</th><th scope=col>&lt;dbl&gt;</th></tr>\n",
       "</thead>\n",
       "<tbody>\n",
       "\t<tr><th scope=row>1</th><td>7</td><td>12.0</td><td>74.9</td></tr>\n",
       "\t<tr><th scope=row>2</th><td>4</td><td>17.9</td><td>53.0</td></tr>\n",
       "\t<tr><th scope=row>3</th><td>4</td><td>15.7</td><td>79.1</td></tr>\n",
       "\t<tr><th scope=row>4</th><td>7</td><td>12.5</td><td>50.1</td></tr>\n",
       "\t<tr><th scope=row>5</th><td>9</td><td> 9.5</td><td>62.0</td></tr>\n",
       "\t<tr><th scope=row>6</th><td>1</td><td>21.5</td><td> 4.8</td></tr>\n",
       "</tbody>\n",
       "</table>\n"
      ],
      "text/latex": [
       "A data.frame: 6 × 3\n",
       "\\begin{tabular}{r|lll}\n",
       "  & Age & Price & Mileage\\\\\n",
       "  & <int> & <dbl> & <dbl>\\\\\n",
       "\\hline\n",
       "\t1 & 7 & 12.0 & 74.9\\\\\n",
       "\t2 & 4 & 17.9 & 53.0\\\\\n",
       "\t3 & 4 & 15.7 & 79.1\\\\\n",
       "\t4 & 7 & 12.5 & 50.1\\\\\n",
       "\t5 & 9 &  9.5 & 62.0\\\\\n",
       "\t6 & 1 & 21.5 &  4.8\\\\\n",
       "\\end{tabular}\n"
      ],
      "text/markdown": [
       "\n",
       "A data.frame: 6 × 3\n",
       "\n",
       "| <!--/--> | Age &lt;int&gt; | Price &lt;dbl&gt; | Mileage &lt;dbl&gt; |\n",
       "|---|---|---|---|\n",
       "| 1 | 7 | 12.0 | 74.9 |\n",
       "| 2 | 4 | 17.9 | 53.0 |\n",
       "| 3 | 4 | 15.7 | 79.1 |\n",
       "| 4 | 7 | 12.5 | 50.1 |\n",
       "| 5 | 9 |  9.5 | 62.0 |\n",
       "| 6 | 1 | 21.5 |  4.8 |\n",
       "\n"
      ],
      "text/plain": [
       "  Age Price Mileage\n",
       "1 7   12.0  74.9   \n",
       "2 4   17.9  53.0   \n",
       "3 4   15.7  79.1   \n",
       "4 7   12.5  50.1   \n",
       "5 9    9.5  62.0   \n",
       "6 1   21.5   4.8   "
      ]
     },
     "metadata": {},
     "output_type": "display_data"
    }
   ],
   "source": [
    "library(Stat2Data)\n",
    "data(AccordPrice)\n",
    "head(AccordPrice)"
   ]
  },
  {
   "cell_type": "markdown",
   "id": "0e7284e0-f7d9-4df4-b4eb-2fe8811ad3f2",
   "metadata": {},
   "source": [
    "* We can find the sample correlation between $\\mathit{Price}$ and $\\mathit{Mileage}$ using the `cor()` function, like this:"
   ]
  },
  {
   "cell_type": "code",
   "execution_count": 2,
   "id": "1324931a-7114-4d59-9b82-94c1147aa53e",
   "metadata": {},
   "outputs": [
    {
     "data": {
      "text/html": [
       "-0.848944149222079"
      ],
      "text/latex": [
       "-0.848944149222079"
      ],
      "text/markdown": [
       "-0.848944149222079"
      ],
      "text/plain": [
       "[1] -0.8489441"
      ]
     },
     "metadata": {},
     "output_type": "display_data"
    }
   ],
   "source": [
    "cor(AccordPrice$Price, AccordPrice$Mileage)"
   ]
  },
  {
   "cell_type": "markdown",
   "id": "0bba2606-9920-45b9-b360-65bfd7e1ed48",
   "metadata": {},
   "source": [
    "* In fact, we can find the sample correlation between all pairs of variables in dataframe using the `cor()` function, as long as all the variables are quantitative, like this: "
   ]
  },
  {
   "cell_type": "code",
   "execution_count": 3,
   "id": "cbffc853-10df-4e47-b472-ed07cb6f8cf5",
   "metadata": {},
   "outputs": [
    {
     "data": {
      "text/html": [
       "<table class=\"dataframe\">\n",
       "<caption>A matrix: 3 × 3 of type dbl</caption>\n",
       "<thead>\n",
       "\t<tr><th></th><th scope=col>Age</th><th scope=col>Price</th><th scope=col>Mileage</th></tr>\n",
       "</thead>\n",
       "<tbody>\n",
       "\t<tr><th scope=row>Age</th><td> 1.0000000</td><td>-0.8956156</td><td> 0.7895010</td></tr>\n",
       "\t<tr><th scope=row>Price</th><td>-0.8956156</td><td> 1.0000000</td><td>-0.8489441</td></tr>\n",
       "\t<tr><th scope=row>Mileage</th><td> 0.7895010</td><td>-0.8489441</td><td> 1.0000000</td></tr>\n",
       "</tbody>\n",
       "</table>\n"
      ],
      "text/latex": [
       "A matrix: 3 × 3 of type dbl\n",
       "\\begin{tabular}{r|lll}\n",
       "  & Age & Price & Mileage\\\\\n",
       "\\hline\n",
       "\tAge &  1.0000000 & -0.8956156 &  0.7895010\\\\\n",
       "\tPrice & -0.8956156 &  1.0000000 & -0.8489441\\\\\n",
       "\tMileage &  0.7895010 & -0.8489441 &  1.0000000\\\\\n",
       "\\end{tabular}\n"
      ],
      "text/markdown": [
       "\n",
       "A matrix: 3 × 3 of type dbl\n",
       "\n",
       "| <!--/--> | Age | Price | Mileage |\n",
       "|---|---|---|---|\n",
       "| Age |  1.0000000 | -0.8956156 |  0.7895010 |\n",
       "| Price | -0.8956156 |  1.0000000 | -0.8489441 |\n",
       "| Mileage |  0.7895010 | -0.8489441 |  1.0000000 |\n",
       "\n"
      ],
      "text/plain": [
       "        Age        Price      Mileage   \n",
       "Age      1.0000000 -0.8956156  0.7895010\n",
       "Price   -0.8956156  1.0000000 -0.8489441\n",
       "Mileage  0.7895010 -0.8489441  1.0000000"
      ]
     },
     "metadata": {},
     "output_type": "display_data"
    }
   ],
   "source": [
    "cor(AccordPrice)"
   ]
  },
  {
   "cell_type": "markdown",
   "id": "67a20ca5-c8f0-4c14-9edf-b9af8e949815",
   "metadata": {},
   "source": [
    "* We can perform the $t$-test for correlation using the `cor.test()` function, like this:"
   ]
  },
  {
   "cell_type": "code",
   "execution_count": 4,
   "id": "857412c5-013a-46b6-b967-0ae0a1c95049",
   "metadata": {},
   "outputs": [
    {
     "data": {
      "text/plain": [
       "\n",
       "\tPearson's product-moment correlation\n",
       "\n",
       "data:  AccordPrice$Price and AccordPrice$Mileage\n",
       "t = -8.5002, df = 28, p-value = 3.055e-09\n",
       "alternative hypothesis: true correlation is not equal to 0\n",
       "95 percent confidence interval:\n",
       " -0.9259982 -0.7039888\n",
       "sample estimates:\n",
       "       cor \n",
       "-0.8489441 \n"
      ]
     },
     "metadata": {},
     "output_type": "display_data"
    }
   ],
   "source": [
    "cor.test(AccordPrice$Price, AccordPrice$Mileage, alternative = \"two.sided\", conf.level = 0.95)"
   ]
  }
 ],
 "metadata": {
  "kernelspec": {
   "display_name": "R",
   "language": "R",
   "name": "ir"
  },
  "language_info": {
   "codemirror_mode": "r",
   "file_extension": ".r",
   "mimetype": "text/x-r-source",
   "name": "R",
   "pygments_lexer": "r",
   "version": "4.2.2"
  }
 },
 "nbformat": 4,
 "nbformat_minor": 5
}
